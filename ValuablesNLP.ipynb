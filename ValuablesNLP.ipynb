{
  "nbformat": 4,
  "nbformat_minor": 0,
  "metadata": {
    "colab": {
      "name": "ValuablesNLP.ipynb",
      "provenance": []
    },
    "kernelspec": {
      "name": "python3",
      "display_name": "Python 3"
    },
    "language_info": {
      "name": "python"
    }
  },
  "cells": [
    {
      "cell_type": "code",
      "metadata": {
        "id": "SMO5KWDesD4m"
      },
      "source": [
        "from collections import Counter\n",
        "def getWordsAssiciatedWithUser(userName, returnTopThree = False):\n",
        "  \"\"\"\n",
        "  Input:\n",
        "    - UserName or the userID in the data base\n",
        "    - returnTopthree (true or false)\n",
        "  Output:\n",
        "    - if only one word is required, return the most frequent word associated with a user\n",
        "    - if top three words are required, return the top three words associated with a profile\n",
        "  functionality:\n",
        "    - Access the database to get the user details\n",
        "    - count the words associated with a user profile \n",
        "    - return the most frequent word associated with a user profile\n",
        "  \"\"\"\n",
        "\n",
        "  #Currently using a dummy dataset\n",
        "  userDictionary  = {\"Alex\":'hard working,dedicated,responsible,dedicated','Tim':'hard working,dedicated,responsible,dedicated'}\n",
        "  \n",
        "\n",
        "  ''' The database \n",
        "        - we can use this as the data storage format in the database \n",
        "        - we can have the userID associated with the words\n",
        "        - while entering the data, we can ensure this format follows\n",
        "        - whenver the new data is added, we can append the new value with a comma (,) to the existing values\n",
        "  '''\n",
        "  #To Add: The database connection \n",
        "\n",
        "  #To Add: The data retrieval logic for a specific user\n",
        "\n",
        "  #Optional: We can use the NLTK to remove the stopwords, but since, we get only single words, it may not be required\n",
        "\n",
        "  #Once we access the data\n",
        "  currUserListOfWords = Counter(list(userDictionary[userName].split(\",\")))\n",
        "\n",
        "  # checking if more than one words for a profile are required\n",
        "\n",
        "  if returnTopThree:\n",
        "    #gets the top three most frequent words associated with a profile\n",
        "    wordsFrequency = list(currUserListOfWords.items())\n",
        "    wordsFrequency.sort(key=lambda x: x[1])\n",
        "    topThreeWords = ' '.join([i[0] for i in wordsFrequency[:3]])\n",
        "    return topThreeWords\n",
        "  else:\n",
        "    #returns the top most word associated with a profile\n",
        "    return max(currUserListOfWords)\n",
        "\n"
      ],
      "execution_count": null,
      "outputs": []
    },
    {
      "cell_type": "code",
      "metadata": {
        "colab": {
          "base_uri": "https://localhost:8080/",
          "height": 37
        },
        "id": "rrYpCAX-2gY5",
        "outputId": "9907a5ad-803e-4558-f957-ef9b60270d32"
      },
      "source": [
        "getWordsAssiciatedWithUser('Alex')"
      ],
      "execution_count": null,
      "outputs": [
        {
          "output_type": "execute_result",
          "data": {
            "application/vnd.google.colaboratory.intrinsic+json": {
              "type": "string"
            },
            "text/plain": [
              "'responsible'"
            ]
          },
          "metadata": {
            "tags": []
          },
          "execution_count": 16
        }
      ]
    }
  ]
}