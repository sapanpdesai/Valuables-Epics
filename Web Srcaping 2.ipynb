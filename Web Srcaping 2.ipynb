{
 "cells": [
  {
   "cell_type": "code",
   "execution_count": 1,
   "metadata": {},
   "outputs": [
    {
     "name": "stderr",
     "output_type": "stream",
     "text": [
      "[nltk_data] Downloading package punkt to\n",
      "[nltk_data]     /Users/soumyakhare/nltk_data...\n",
      "[nltk_data]   Package punkt is already up-to-date!\n",
      "[nltk_data] Downloading package stopwords to\n",
      "[nltk_data]     /Users/soumyakhare/nltk_data...\n",
      "[nltk_data]   Package stopwords is already up-to-date!\n"
     ]
    },
    {
     "data": {
      "text/plain": [
       "True"
      ]
     },
     "execution_count": 1,
     "metadata": {},
     "output_type": "execute_result"
    }
   ],
   "source": [
    "import nltk\n",
    "nltk.download('punkt')\n",
    "import requests\n",
    "import bs4 as bs\n",
    "import re\n",
    "from nltk.corpus import stopwords\n",
    "nltk.download('stopwords')"
   ]
  },
  {
   "cell_type": "code",
   "execution_count": 2,
   "metadata": {},
   "outputs": [],
   "source": [
    "url = 'https://www.rtx.com/our-company/what-we-do'\n",
    "\n",
    "\n",
    "headers = {\n",
    "    'User-Agent' : \"Mozilla/5.0 (Macintosh; Intel Mac OS X 10_15_7) AppleWebKit/537.36 (KHTML, like Gecko) Chrome/91.0.4472.114 Safari/537.36\"\n",
    "}"
   ]
  },
  {
   "cell_type": "code",
   "execution_count": 3,
   "metadata": {},
   "outputs": [],
   "source": [
    "r= requests.get(url,{'headers' :headers})\n",
    "soup=bs.BeautifulSoup(r.text, 'lxml')"
   ]
  },
  {
   "cell_type": "code",
   "execution_count": 4,
   "metadata": {},
   "outputs": [
    {
     "name": "stdout",
     "output_type": "stream",
     "text": [
      "At Raytheon Technologies, we're accelerating ideas to solve some of the world's biggest challenges by bringing together the brightest, most innovative minds across aviation, space and defense.\n",
      "We form an unrivaled company, with one team coming together across the globe to push the limits of known science and redefine how we connect and protect our world. We are advancing aviation, building smarter defense systems and creating innovations to take us deeper into space.At this moment, there’s a new rover on Mars and a long-term plan to send people there; our sustainable aviation efforts are making blue skies bluer; and our defense systems are reaching all the way into space to protect what’s here on Earth.Safer, more connected flightConnecting people and places faster and more efficientlySmarter defense systemsProviding operational advantage against new and emerging threatsIntelligent space technologiesBringing us closer to new worlds – and a better one here on EarthWith more than 100 years of experience, our research and development team is creating breakthrough technologies in fields such as artificial intelligence, advanced propulsion, electrification and thermal management.You are now leaving RTX.com and entering a website that RTX does not control. RTX has provided this link for your convenience, but does not endorse and is not responsible for the content, links, privacy policy, or security of this website.\n"
     ]
    }
   ],
   "source": [
    "text= \"\"\n",
    "for para in soup.find_all('p'):\n",
    "    text +=para.text\n",
    "\n",
    "print(text)"
   ]
  },
  {
   "cell_type": "markdown",
   "metadata": {},
   "source": [
    "# Text preprocessing\n"
   ]
  },
  {
   "cell_type": "code",
   "execution_count": 5,
   "metadata": {},
   "outputs": [
    {
     "name": "stdout",
     "output_type": "stream",
     "text": [
      "[['at', 'raytheon', 'technologies', 'we', 're', 'accelerating', 'ideas', 'to', 'solve', 'some', 'of', 'the', 'world', 'biggest', 'challenges', 'by', 'bringing', 'together', 'the', 'brightest', 'most', 'innovative', 'minds', 'across', 'aviation', 'space', 'and', 'defense'], ['we', 'form', 'an', 'unrivaled', 'company', 'with', 'one', 'team', 'coming', 'together', 'across', 'the', 'globe', 'to', 'push', 'the', 'limits', 'of', 'known', 'science', 'and', 'redefine', 'how', 'we', 'connect', 'and', 'protect', 'our', 'world'], ['we', 'are', 'advancing', 'aviation', 'building', 'smarter', 'defense', 'systems', 'and', 'creating', 'innovations', 'to', 'take', 'us', 'deeper', 'into', 'space'], ['at', 'this', 'moment', 'there', 'new', 'rover', 'on', 'mars', 'and', 'long', 'term', 'plan', 'to', 'send', 'people', 'there', 'our', 'sustainable', 'aviation', 'efforts', 'are', 'making', 'blue', 'skies', 'bluer', 'and', 'our', 'defense', 'systems', 'are', 'reaching', 'all', 'the', 'way', 'into', 'space', 'to', 'protect', 'what', 'here', 'on', 'earth'], ['safer', 'more', 'connected', 'people', 'and', 'places', 'faster', 'and', 'more', 'defense', 'operational', 'advantage', 'against', 'new', 'and', 'emerging', 'space', 'us', 'closer', 'to', 'new', 'worlds', 'and', 'better', 'one', 'here', 'on', 'earthwith', 'more', 'than', 'years', 'of', 'experience', 'our', 'research', 'and', 'development', 'team', 'is', 'creating', 'breakthrough', 'technologies', 'in', 'fields', 'such', 'as', 'artificial', 'intelligence', 'advanced', 'propulsion', 'electrification', 'and', 'thermal', 'management'], ['you', 'are', 'now', 'leaving', 'rtx'], ['com', 'and', 'entering', 'website', 'that', 'rtx', 'does', 'not', 'control'], ['rtx', 'has', 'provided', 'this', 'link', 'for', 'your', 'convenience', 'but', 'does', 'not', 'endorse', 'and', 'is', 'not', 'responsible', 'for', 'the', 'content', 'links', 'privacy', 'policy', 'or', 'security', 'of', 'this', 'website'], []]\n"
     ]
    }
   ],
   "source": [
    "import gensim\n",
    "import os\n",
    "from gensim.utils import simple_preprocess\n",
    "\n",
    "\n",
    "\n",
    "# preprocess the file to get a list of tokens\n",
    "tokenized =[]\n",
    "for sentence in text.split('.'):\n",
    "# the simple_preprocess function returns a list of each sentence\n",
    "    tokenized.append(simple_preprocess(sentence, deacc = True))\n",
    "\n",
    "print(tokenized)\n"
   ]
  },
  {
   "cell_type": "markdown",
   "metadata": {},
   "source": [
    "# Text summarization\n"
   ]
  },
  {
   "cell_type": "code",
   "execution_count": 6,
   "metadata": {},
   "outputs": [
    {
     "name": "stdout",
     "output_type": "stream",
     "text": [
      "At Raytheon Technologies, we're accelerating ideas to solve some of the world's biggest challenges by bringing together the brightest, most innovative minds across aviation, space and defense.\n",
      "We form an unrivaled company, with one team coming together across the globe to push the limits of known science and redefine how we connect and protect our world.\n",
      "We are advancing aviation, building smarter defense systems and creating innovations to take us deeper into space.At this moment, there’s a new rover on Mars and a long-term plan to send people there; our sustainable aviation efforts are making blue skies bluer; and our defense systems are reaching all the way into space to protect what’s here on Earth.Safer, more connected flightConnecting people and places faster and more efficientlySmarter defense systemsProviding operational advantage against new and emerging threatsIntelligent space technologiesBringing us closer to new worlds – and a better one here on EarthWith more than 100 years of experience, our research and development team is creating breakthrough technologies in fields such as artificial intelligence, advanced propulsion, electrification and thermal management.You are now leaving RTX.com and entering a website that RTX does not control.\n"
     ]
    }
   ],
   "source": [
    "from gensim.summarization import summarize, keywords\n",
    "import os\n",
    " \n",
    "# Summarize the paragraph\n",
    "print(summarize(text, ratio=0.75))"
   ]
  },
  {
   "cell_type": "code",
   "execution_count": 7,
   "metadata": {},
   "outputs": [
    {
     "name": "stdout",
     "output_type": "stream",
     "text": [
      "defense\n",
      "rtx\n",
      "aviation space\n",
      "advancing\n",
      "new\n",
      "team\n",
      "link\n",
      "links privacy\n",
      "flightconnecting\n",
      "blue skies\n",
      "people\n",
      "intelligence advanced\n",
      "technologies\n",
      "innovative\n",
      "creating innovations\n",
      "breakthrough\n",
      "threatsintelligent\n",
      "systemsproviding operational\n",
      "propulsion\n",
      "unrivaled\n",
      "biggest\n"
     ]
    }
   ],
   "source": [
    "print(keywords(text, words=25))"
   ]
  },
  {
   "cell_type": "markdown",
   "metadata": {},
   "source": [
    "# Extra - tried training Word2vec model"
   ]
  },
  {
   "cell_type": "markdown",
   "metadata": {},
   "source": [
    "Downloading dataset"
   ]
  },
  {
   "cell_type": "code",
   "execution_count": 8,
   "metadata": {},
   "outputs": [
    {
     "name": "stdout",
     "output_type": "stream",
     "text": [
      "{'corpora': {'semeval-2016-2017-task3-subtaskBC': {'num_records': -1, 'record_format': 'dict', 'file_size': 6344358, 'reader_code': 'https://github.com/RaRe-Technologies/gensim-data/releases/download/semeval-2016-2017-task3-subtaskB-eng/__init__.py', 'license': 'All files released for the task are free for general research use', 'fields': {'2016-train': ['...'], '2016-dev': ['...'], '2017-test': ['...'], '2016-test': ['...']}, 'description': 'SemEval 2016 / 2017 Task 3 Subtask B and C datasets contain train+development (317 original questions, 3,169 related questions, and 31,690 comments), and test datasets in English. The description of the tasks and the collected data is given in sections 3 and 4.1 of the task paper http://alt.qcri.org/semeval2016/task3/data/uploads/semeval2016-task3-report.pdf linked in section “Papers” of https://github.com/RaRe-Technologies/gensim-data/issues/18.', 'checksum': '701ea67acd82e75f95e1d8e62fb0ad29', 'file_name': 'semeval-2016-2017-task3-subtaskBC.gz', 'read_more': ['http://alt.qcri.org/semeval2017/task3/', 'http://alt.qcri.org/semeval2017/task3/data/uploads/semeval2017-task3.pdf', 'https://github.com/RaRe-Technologies/gensim-data/issues/18', 'https://github.com/Witiko/semeval-2016_2017-task3-subtaskB-english'], 'parts': 1}, 'semeval-2016-2017-task3-subtaskA-unannotated': {'num_records': 189941, 'record_format': 'dict', 'file_size': 234373151, 'reader_code': 'https://github.com/RaRe-Technologies/gensim-data/releases/download/semeval-2016-2017-task3-subtaskA-unannotated-eng/__init__.py', 'license': 'These datasets are free for general research use.', 'fields': {'THREAD_SEQUENCE': '', 'RelQuestion': {'RELQ_CATEGORY': 'question category, according to the Qatar Living taxonomy', 'RELQ_DATE': 'date of posting', 'RELQ_ID': 'question indentifier', 'RELQ_USERID': 'identifier of the user asking the question', 'RELQ_USERNAME': 'name of the user asking the question', 'RelQBody': 'body of question', 'RelQSubject': 'subject of question'}, 'RelComments': [{'RelCText': 'text of answer', 'RELC_USERID': 'identifier of the user posting the comment', 'RELC_ID': 'comment identifier', 'RELC_USERNAME': 'name of the user posting the comment', 'RELC_DATE': 'date of posting'}]}, 'description': 'SemEval 2016 / 2017 Task 3 Subtask A unannotated dataset contains 189,941 questions and 1,894,456 comments in English collected from the Community Question Answering (CQA) web forum of Qatar Living. These can be used as a corpus for language modelling.', 'checksum': '2de0e2f2c4f91c66ae4fcf58d50ba816', 'file_name': 'semeval-2016-2017-task3-subtaskA-unannotated.gz', 'read_more': ['http://alt.qcri.org/semeval2016/task3/', 'http://alt.qcri.org/semeval2016/task3/data/uploads/semeval2016-task3-report.pdf', 'https://github.com/RaRe-Technologies/gensim-data/issues/18', 'https://github.com/Witiko/semeval-2016_2017-task3-subtaskA-unannotated-english'], 'parts': 1}, 'patent-2017': {'num_records': 353197, 'record_format': 'dict', 'file_size': 3087262469, 'reader_code': 'https://github.com/RaRe-Technologies/gensim-data/releases/download/patent-2017/__init__.py', 'license': 'not found', 'description': \"Patent Grant Full Text. Contains the full text including tables, sequence data and 'in-line' mathematical expressions of each patent grant issued in 2017.\", 'checksum-0': '818501f0b9af62d3b88294d86d509f8f', 'checksum-1': '66c05635c1d3c7a19b4a335829d09ffa', 'file_name': 'patent-2017.gz', 'read_more': ['http://patents.reedtech.com/pgrbft.php'], 'parts': 2}, 'quora-duplicate-questions': {'num_records': 404290, 'record_format': 'dict', 'file_size': 21684784, 'reader_code': 'https://github.com/RaRe-Technologies/gensim-data/releases/download/quora-duplicate-questions/__init__.py', 'license': 'probably https://www.quora.com/about/tos', 'fields': {'question1': 'the full text of each question', 'question2': 'the full text of each question', 'qid1': 'unique ids of each question', 'qid2': 'unique ids of each question', 'id': 'the id of a training set question pair', 'is_duplicate': 'the target variable, set to 1 if question1 and question2 have essentially the same meaning, and 0 otherwise'}, 'description': 'Over 400,000 lines of potential question duplicate pairs. Each line contains IDs for each question in the pair, the full text for each question, and a binary value that indicates whether the line contains a duplicate pair or not.', 'checksum': 'd7cfa7fbc6e2ec71ab74c495586c6365', 'file_name': 'quora-duplicate-questions.gz', 'read_more': ['https://data.quora.com/First-Quora-Dataset-Release-Question-Pairs'], 'parts': 1}, 'wiki-english-20171001': {'num_records': 4924894, 'record_format': 'dict', 'file_size': 6516051717, 'reader_code': 'https://github.com/RaRe-Technologies/gensim-data/releases/download/wiki-english-20171001/__init__.py', 'license': 'https://dumps.wikimedia.org/legal.html', 'fields': {'section_texts': 'list of body of sections', 'section_titles': 'list of titles of sections', 'title': 'Title of wiki article'}, 'description': 'Extracted Wikipedia dump from October 2017. Produced by `python -m gensim.scripts.segment_wiki -f enwiki-20171001-pages-articles.xml.bz2 -o wiki-en.gz`', 'checksum-0': 'a7d7d7fd41ea7e2d7fa32ec1bb640d71', 'checksum-1': 'b2683e3356ffbca3b6c2dca6e9801f9f', 'checksum-2': 'c5cde2a9ae77b3c4ebce804f6df542c2', 'checksum-3': '00b71144ed5e3aeeb885de84f7452b81', 'file_name': 'wiki-english-20171001.gz', 'read_more': ['https://dumps.wikimedia.org/enwiki/20171001/'], 'parts': 4}, 'text8': {'num_records': 1701, 'record_format': 'list of str (tokens)', 'file_size': 33182058, 'reader_code': 'https://github.com/RaRe-Technologies/gensim-data/releases/download/text8/__init__.py', 'license': 'not found', 'description': 'First 100,000,000 bytes of plain text from Wikipedia. Used for testing purposes; see wiki-english-* for proper full Wikipedia datasets.', 'checksum': '68799af40b6bda07dfa47a32612e5364', 'file_name': 'text8.gz', 'read_more': ['http://mattmahoney.net/dc/textdata.html'], 'parts': 1}, 'fake-news': {'num_records': 12999, 'record_format': 'dict', 'file_size': 20102776, 'reader_code': 'https://github.com/RaRe-Technologies/gensim-data/releases/download/fake-news/__init__.py', 'license': 'https://creativecommons.org/publicdomain/zero/1.0/', 'fields': {'crawled': 'date the story was archived', 'ord_in_thread': '', 'published': 'date published', 'participants_count': 'number of participants', 'shares': 'number of Facebook shares', 'replies_count': 'number of replies', 'main_img_url': 'image from story', 'spam_score': 'data from webhose.io', 'uuid': 'unique identifier', 'language': 'data from webhose.io', 'title': 'title of story', 'country': 'data from webhose.io', 'domain_rank': 'data from webhose.io', 'author': 'author of story', 'comments': 'number of Facebook comments', 'site_url': 'site URL from BS detector', 'text': 'text of story', 'thread_title': '', 'type': 'type of website (label from BS detector)', 'likes': 'number of Facebook likes'}, 'description': \"News dataset, contains text and metadata from 244 websites and represents 12,999 posts in total from a specific window of 30 days. The data was pulled using the webhose.io API, and because it's coming from their crawler, not all websites identified by their BS Detector are present in this dataset. Data sources that were missing a label were simply assigned a label of 'bs'. There are (ostensibly) no genuine, reliable, or trustworthy news sources represented in this dataset (so far), so don't trust anything you read.\", 'checksum': '5e64e942df13219465927f92dcefd5fe', 'file_name': 'fake-news.gz', 'read_more': ['https://www.kaggle.com/mrisdal/fake-news'], 'parts': 1}, '20-newsgroups': {'num_records': 18846, 'record_format': 'dict', 'file_size': 14483581, 'reader_code': 'https://github.com/RaRe-Technologies/gensim-data/releases/download/20-newsgroups/__init__.py', 'license': 'not found', 'fields': {'topic': 'name of topic (20 variant of possible values)', 'set': \"marker of original split (possible values 'train' and 'test')\", 'data': '', 'id': 'original id inferred from folder name'}, 'description': 'The notorious collection of approximately 20,000 newsgroup posts, partitioned (nearly) evenly across 20 different newsgroups.', 'checksum': 'c92fd4f6640a86d5ba89eaad818a9891', 'file_name': '20-newsgroups.gz', 'read_more': ['http://qwone.com/~jason/20Newsgroups/'], 'parts': 1}, '__testing_matrix-synopsis': {'description': '[THIS IS ONLY FOR TESTING] Synopsis of the movie matrix.', 'checksum': '1767ac93a089b43899d54944b07d9dc5', 'file_name': '__testing_matrix-synopsis.gz', 'read_more': ['http://www.imdb.com/title/tt0133093/plotsummary?ref_=ttpl_pl_syn#synopsis'], 'parts': 1}, '__testing_multipart-matrix-synopsis': {'description': '[THIS IS ONLY FOR TESTING] Synopsis of the movie matrix.', 'checksum-0': 'c8b0c7d8cf562b1b632c262a173ac338', 'checksum-1': '5ff7fc6818e9a5d9bc1cf12c35ed8b96', 'checksum-2': '966db9d274d125beaac7987202076cba', 'file_name': '__testing_multipart-matrix-synopsis.gz', 'read_more': ['http://www.imdb.com/title/tt0133093/plotsummary?ref_=ttpl_pl_syn#synopsis'], 'parts': 3}}, 'models': {'fasttext-wiki-news-subwords-300': {'num_records': 999999, 'file_size': 1005007116, 'base_dataset': 'Wikipedia 2017, UMBC webbase corpus and statmt.org news dataset (16B tokens)', 'reader_code': 'https://github.com/RaRe-Technologies/gensim-data/releases/download/fasttext-wiki-news-subwords-300/__init__.py', 'license': 'https://creativecommons.org/licenses/by-sa/3.0/', 'parameters': {'dimension': 300}, 'description': '1 million word vectors trained on Wikipedia 2017, UMBC webbase corpus and statmt.org news dataset (16B tokens).', 'read_more': ['https://fasttext.cc/docs/en/english-vectors.html', 'https://arxiv.org/abs/1712.09405', 'https://arxiv.org/abs/1607.01759'], 'checksum': 'de2bb3a20c46ce65c9c131e1ad9a77af', 'file_name': 'fasttext-wiki-news-subwords-300.gz', 'parts': 1}, 'conceptnet-numberbatch-17-06-300': {'num_records': 1917247, 'file_size': 1225497562, 'base_dataset': 'ConceptNet, word2vec, GloVe, and OpenSubtitles 2016', 'reader_code': 'https://github.com/RaRe-Technologies/gensim-data/releases/download/conceptnet-numberbatch-17-06-300/__init__.py', 'license': 'https://github.com/commonsense/conceptnet-numberbatch/blob/master/LICENSE.txt', 'parameters': {'dimension': 300}, 'description': 'ConceptNet Numberbatch consists of state-of-the-art semantic vectors (also known as word embeddings) that can be used directly as a representation of word meanings or as a starting point for further machine learning. ConceptNet Numberbatch is part of the ConceptNet open data project. ConceptNet provides lots of ways to compute with word meanings, one of which is word embeddings. ConceptNet Numberbatch is a snapshot of just the word embeddings. It is built using an ensemble that combines data from ConceptNet, word2vec, GloVe, and OpenSubtitles 2016, using a variation on retrofitting.', 'read_more': ['http://aaai.org/ocs/index.php/AAAI/AAAI17/paper/view/14972', 'https://github.com/commonsense/conceptnet-numberbatch', 'http://conceptnet.io/'], 'checksum': 'fd642d457adcd0ea94da0cd21b150847', 'file_name': 'conceptnet-numberbatch-17-06-300.gz', 'parts': 1}, 'word2vec-ruscorpora-300': {'num_records': 184973, 'file_size': 208427381, 'base_dataset': 'Russian National Corpus (about 250M words)', 'reader_code': 'https://github.com/RaRe-Technologies/gensim-data/releases/download/word2vec-ruscorpora-300/__init__.py', 'license': 'https://creativecommons.org/licenses/by/4.0/deed.en', 'parameters': {'dimension': 300, 'window_size': 10}, 'description': 'Word2vec Continuous Skipgram vectors trained on full Russian National Corpus (about 250M words). The model contains 185K words.', 'preprocessing': 'The corpus was lemmatized and tagged with Universal PoS', 'read_more': ['https://www.academia.edu/24306935/WebVectors_a_Toolkit_for_Building_Web_Interfaces_for_Vector_Semantic_Models', 'http://rusvectores.org/en/', 'https://github.com/RaRe-Technologies/gensim-data/issues/3'], 'checksum': '9bdebdc8ae6d17d20839dd9b5af10bc4', 'file_name': 'word2vec-ruscorpora-300.gz', 'parts': 1}, 'word2vec-google-news-300': {'num_records': 3000000, 'file_size': 1743563840, 'base_dataset': 'Google News (about 100 billion words)', 'reader_code': 'https://github.com/RaRe-Technologies/gensim-data/releases/download/word2vec-google-news-300/__init__.py', 'license': 'not found', 'parameters': {'dimension': 300}, 'description': \"Pre-trained vectors trained on a part of the Google News dataset (about 100 billion words). The model contains 300-dimensional vectors for 3 million words and phrases. The phrases were obtained using a simple data-driven approach described in 'Distributed Representations of Words and Phrases and their Compositionality' (https://code.google.com/archive/p/word2vec/).\", 'read_more': ['https://code.google.com/archive/p/word2vec/', 'https://arxiv.org/abs/1301.3781', 'https://arxiv.org/abs/1310.4546', 'https://www.microsoft.com/en-us/research/publication/linguistic-regularities-in-continuous-space-word-representations/?from=http%3A%2F%2Fresearch.microsoft.com%2Fpubs%2F189726%2Frvecs.pdf'], 'checksum': 'a5e5354d40acb95f9ec66d5977d140ef', 'file_name': 'word2vec-google-news-300.gz', 'parts': 1}, 'glove-wiki-gigaword-50': {'num_records': 400000, 'file_size': 69182535, 'base_dataset': 'Wikipedia 2014 + Gigaword 5 (6B tokens, uncased)', 'reader_code': 'https://github.com/RaRe-Technologies/gensim-data/releases/download/glove-wiki-gigaword-50/__init__.py', 'license': 'http://opendatacommons.org/licenses/pddl/', 'parameters': {'dimension': 50}, 'description': 'Pre-trained vectors based on Wikipedia 2014 + Gigaword, 5.6B tokens, 400K vocab, uncased (https://nlp.stanford.edu/projects/glove/).', 'preprocessing': 'Converted to w2v format with `python -m gensim.scripts.glove2word2vec -i <fname> -o glove-wiki-gigaword-50.txt`.', 'read_more': ['https://nlp.stanford.edu/projects/glove/', 'https://nlp.stanford.edu/pubs/glove.pdf'], 'checksum': 'c289bc5d7f2f02c6dc9f2f9b67641813', 'file_name': 'glove-wiki-gigaword-50.gz', 'parts': 1}, 'glove-wiki-gigaword-100': {'num_records': 400000, 'file_size': 134300434, 'base_dataset': 'Wikipedia 2014 + Gigaword 5 (6B tokens, uncased)', 'reader_code': 'https://github.com/RaRe-Technologies/gensim-data/releases/download/glove-wiki-gigaword-100/__init__.py', 'license': 'http://opendatacommons.org/licenses/pddl/', 'parameters': {'dimension': 100}, 'description': 'Pre-trained vectors based on Wikipedia 2014 + Gigaword 5.6B tokens, 400K vocab, uncased (https://nlp.stanford.edu/projects/glove/).', 'preprocessing': 'Converted to w2v format with `python -m gensim.scripts.glove2word2vec -i <fname> -o glove-wiki-gigaword-100.txt`.', 'read_more': ['https://nlp.stanford.edu/projects/glove/', 'https://nlp.stanford.edu/pubs/glove.pdf'], 'checksum': '40ec481866001177b8cd4cb0df92924f', 'file_name': 'glove-wiki-gigaword-100.gz', 'parts': 1}, 'glove-wiki-gigaword-200': {'num_records': 400000, 'file_size': 264336934, 'base_dataset': 'Wikipedia 2014 + Gigaword 5 (6B tokens, uncased)', 'reader_code': 'https://github.com/RaRe-Technologies/gensim-data/releases/download/glove-wiki-gigaword-200/__init__.py', 'license': 'http://opendatacommons.org/licenses/pddl/', 'parameters': {'dimension': 200}, 'description': 'Pre-trained vectors based on Wikipedia 2014 + Gigaword, 5.6B tokens, 400K vocab, uncased (https://nlp.stanford.edu/projects/glove/).', 'preprocessing': 'Converted to w2v format with `python -m gensim.scripts.glove2word2vec -i <fname> -o glove-wiki-gigaword-200.txt`.', 'read_more': ['https://nlp.stanford.edu/projects/glove/', 'https://nlp.stanford.edu/pubs/glove.pdf'], 'checksum': '59652db361b7a87ee73834a6c391dfc1', 'file_name': 'glove-wiki-gigaword-200.gz', 'parts': 1}, 'glove-wiki-gigaword-300': {'num_records': 400000, 'file_size': 394362229, 'base_dataset': 'Wikipedia 2014 + Gigaword 5 (6B tokens, uncased)', 'reader_code': 'https://github.com/RaRe-Technologies/gensim-data/releases/download/glove-wiki-gigaword-300/__init__.py', 'license': 'http://opendatacommons.org/licenses/pddl/', 'parameters': {'dimension': 300}, 'description': 'Pre-trained vectors based on Wikipedia 2014 + Gigaword, 5.6B tokens, 400K vocab, uncased (https://nlp.stanford.edu/projects/glove/).', 'preprocessing': 'Converted to w2v format with `python -m gensim.scripts.glove2word2vec -i <fname> -o glove-wiki-gigaword-300.txt`.', 'read_more': ['https://nlp.stanford.edu/projects/glove/', 'https://nlp.stanford.edu/pubs/glove.pdf'], 'checksum': '29e9329ac2241937d55b852e8284e89b', 'file_name': 'glove-wiki-gigaword-300.gz', 'parts': 1}, 'glove-twitter-25': {'num_records': 1193514, 'file_size': 109885004, 'base_dataset': 'Twitter (2B tweets, 27B tokens, 1.2M vocab, uncased)', 'reader_code': 'https://github.com/RaRe-Technologies/gensim-data/releases/download/glove-twitter-25/__init__.py', 'license': 'http://opendatacommons.org/licenses/pddl/', 'parameters': {'dimension': 25}, 'description': 'Pre-trained vectors based on 2B tweets, 27B tokens, 1.2M vocab, uncased (https://nlp.stanford.edu/projects/glove/).', 'preprocessing': 'Converted to w2v format with `python -m gensim.scripts.glove2word2vec -i <fname> -o glove-twitter-25.txt`.', 'read_more': ['https://nlp.stanford.edu/projects/glove/', 'https://nlp.stanford.edu/pubs/glove.pdf'], 'checksum': '50db0211d7e7a2dcd362c6b774762793', 'file_name': 'glove-twitter-25.gz', 'parts': 1}, 'glove-twitter-50': {'num_records': 1193514, 'file_size': 209216938, 'base_dataset': 'Twitter (2B tweets, 27B tokens, 1.2M vocab, uncased)', 'reader_code': 'https://github.com/RaRe-Technologies/gensim-data/releases/download/glove-twitter-50/__init__.py', 'license': 'http://opendatacommons.org/licenses/pddl/', 'parameters': {'dimension': 50}, 'description': 'Pre-trained vectors based on 2B tweets, 27B tokens, 1.2M vocab, uncased (https://nlp.stanford.edu/projects/glove/)', 'preprocessing': 'Converted to w2v format with `python -m gensim.scripts.glove2word2vec -i <fname> -o glove-twitter-50.txt`.', 'read_more': ['https://nlp.stanford.edu/projects/glove/', 'https://nlp.stanford.edu/pubs/glove.pdf'], 'checksum': 'c168f18641f8c8a00fe30984c4799b2b', 'file_name': 'glove-twitter-50.gz', 'parts': 1}, 'glove-twitter-100': {'num_records': 1193514, 'file_size': 405932991, 'base_dataset': 'Twitter (2B tweets, 27B tokens, 1.2M vocab, uncased)', 'reader_code': 'https://github.com/RaRe-Technologies/gensim-data/releases/download/glove-twitter-100/__init__.py', 'license': 'http://opendatacommons.org/licenses/pddl/', 'parameters': {'dimension': 100}, 'description': 'Pre-trained vectors based on  2B tweets, 27B tokens, 1.2M vocab, uncased (https://nlp.stanford.edu/projects/glove/)', 'preprocessing': 'Converted to w2v format with `python -m gensim.scripts.glove2word2vec -i <fname> -o glove-twitter-100.txt`.', 'read_more': ['https://nlp.stanford.edu/projects/glove/', 'https://nlp.stanford.edu/pubs/glove.pdf'], 'checksum': 'b04f7bed38756d64cf55b58ce7e97b15', 'file_name': 'glove-twitter-100.gz', 'parts': 1}, 'glove-twitter-200': {'num_records': 1193514, 'file_size': 795373100, 'base_dataset': 'Twitter (2B tweets, 27B tokens, 1.2M vocab, uncased)', 'reader_code': 'https://github.com/RaRe-Technologies/gensim-data/releases/download/glove-twitter-200/__init__.py', 'license': 'http://opendatacommons.org/licenses/pddl/', 'parameters': {'dimension': 200}, 'description': 'Pre-trained vectors based on 2B tweets, 27B tokens, 1.2M vocab, uncased (https://nlp.stanford.edu/projects/glove/).', 'preprocessing': 'Converted to w2v format with `python -m gensim.scripts.glove2word2vec -i <fname> -o glove-twitter-200.txt`.', 'read_more': ['https://nlp.stanford.edu/projects/glove/', 'https://nlp.stanford.edu/pubs/glove.pdf'], 'checksum': 'e52e8392d1860b95d5308a525817d8f9', 'file_name': 'glove-twitter-200.gz', 'parts': 1}, '__testing_word2vec-matrix-synopsis': {'description': '[THIS IS ONLY FOR TESTING] Word vecrors of the movie matrix.', 'parameters': {'dimensions': 50}, 'preprocessing': 'Converted to w2v using a preprocessed corpus. Converted to w2v format with `python3.5 -m gensim.models.word2vec -train <input_filename> -iter 50 -output <output_filename>`.', 'read_more': [], 'checksum': '534dcb8b56a360977a269b7bfc62d124', 'file_name': '__testing_word2vec-matrix-synopsis.gz', 'parts': 1}}}\n"
     ]
    }
   ],
   "source": [
    "import gensim.downloader as api\n",
    "\n",
    "# check available models and datasets\n",
    "info_datasets = api.info()\n",
    "print(info_datasets)\n",
    "#>{'corpora':\n",
    "#> {'semeval-2016-2017-task3-subtaskBC':\n",
    "#>\t {'num_records': -1, 'record_format': 'dict', 'file_size': 6344358, ....}\n",
    "\n",
    "# information of a particular dataset\n",
    "dataset_info = api.info(\"text8\")\n",
    "\n",
    "# load the \"text8\" dataset\n",
    "dataset = api.load(\"text8\")\n",
    "\n",
    "# load a pre-trained model\n",
    "word2vec_model = api.load('word2vec-google-news-300')\n"
   ]
  },
  {
   "cell_type": "code",
   "execution_count": 9,
   "metadata": {},
   "outputs": [
    {
     "name": "stdout",
     "output_type": "stream",
     "text": [
      "Dictionary(137 unique tokens: ['accelerating', 'across', 'and', 'at', 'aviation']...)\n"
     ]
    }
   ],
   "source": [
    "#creating dictionary\n",
    "from gensim import corpora\n",
    "# storing the extracted tokens into the dictionary\n",
    "my_dictionary = corpora.Dictionary(tokenized)\n",
    "print(my_dictionary)\n"
   ]
  },
  {
   "cell_type": "code",
   "execution_count": 10,
   "metadata": {},
   "outputs": [],
   "source": [
    "# saving dictionary to disk\n",
    "my_dictionary.save('my_dictionary.dict')\n",
    "\n",
    "# load back\n",
    "load_dict = corpora.Dictionary.load('my_dictionary.dict')\n",
    "\t\t\t\t\t\t\t\t\n",
    "# saveing dictionary as text file\n",
    "from gensim.test.utils import get_tmpfile\n",
    "tmp_fname = get_tmpfile(\"dictionary\")\n",
    "my_dictionary.save_as_text(tmp_fname)\n",
    "\n",
    "# loading dictionary text file\n",
    "load_dict = corpora.Dictionary.load_from_text(tmp_fname)\n"
   ]
  },
  {
   "cell_type": "code",
   "execution_count": 11,
   "metadata": {},
   "outputs": [
    {
     "name": "stdout",
     "output_type": "stream",
     "text": [
      "[[(0, 1), (1, 1), (2, 1), (3, 1), (4, 1), (5, 1), (6, 1), (7, 1), (8, 1), (9, 1), (10, 1), (11, 1), (12, 1), (13, 1), (14, 1), (15, 1), (16, 1), (17, 1), (18, 1), (19, 1), (20, 1), (21, 1), (22, 2), (23, 1), (24, 1), (25, 1), (26, 1)], [(1, 1), (2, 2), (15, 1), (22, 2), (23, 1), (24, 1), (25, 2), (26, 1), (27, 1), (28, 1), (29, 1), (30, 1), (31, 1), (32, 1), (33, 1), (34, 1), (35, 1), (36, 1), (37, 1), (38, 1), (39, 1), (40, 1), (41, 1), (42, 1), (43, 1), (44, 1)], [(2, 1), (4, 1), (10, 1), (20, 1), (23, 1), (25, 1), (45, 1), (46, 1), (47, 1), (48, 1), (49, 1), (50, 1), (51, 1), (52, 1), (53, 1), (54, 1), (55, 1)], [(2, 2), (3, 1), (4, 1), (10, 1), (20, 1), (22, 1), (23, 2), (37, 2), (38, 1), (46, 2), (51, 1), (53, 1), (56, 1), (57, 1), (58, 1), (59, 1), (60, 1), (61, 1), (62, 1), (63, 1), (64, 1), (65, 1), (66, 1), (67, 2), (68, 1), (69, 1), (70, 1), (71, 1), (72, 1), (73, 1), (74, 1), (75, 1), (76, 2), (77, 1), (78, 1), (79, 1)], [(2, 6), (10, 1), (15, 1), (20, 1), (21, 1), (23, 1), (36, 1), (37, 1), (42, 1), (48, 1), (55, 1), (61, 1), (66, 2), (67, 1), (68, 1), (80, 1), (81, 1), (82, 1), (83, 1), (84, 1), (85, 1), (86, 1), (87, 1), (88, 1), (89, 1), (90, 1), (91, 1), (92, 1), (93, 1), (94, 1), (95, 1), (96, 1), (97, 1), (98, 1), (99, 1), (100, 3), (101, 1), (102, 1), (103, 1), (104, 1), (105, 1), (106, 1), (107, 1), (108, 1), (109, 1), (110, 1)], [(46, 1), (111, 1), (112, 1), (113, 1), (114, 1)], [(2, 1), (113, 1), (115, 1), (116, 1), (117, 1), (118, 1), (119, 1), (120, 1), (121, 1)], [(2, 1), (15, 1), (22, 1), (77, 2), (98, 1), (113, 1), (117, 1), (119, 2), (121, 1), (122, 1), (123, 1), (124, 1), (125, 1), (126, 2), (127, 1), (128, 1), (129, 1), (130, 1), (131, 1), (132, 1), (133, 1), (134, 1), (135, 1), (136, 1)], []]\n"
     ]
    }
   ],
   "source": [
    "# converting to a bag of word corpus\n",
    "BoW_corpus =[my_dictionary.doc2bow(doc, allow_update = True) for doc in tokenized]\n",
    "print(BoW_corpus)\n"
   ]
  },
  {
   "cell_type": "code",
   "execution_count": 12,
   "metadata": {},
   "outputs": [],
   "source": [
    "from gensim.corpora import MmCorpus\n",
    "from gensim.test.utils import get_tmpfile\n",
    "\n",
    "output_fname = get_tmpfile(\"BoW_corpus.mm\")\n",
    "\n",
    "# save corpus to disk\n",
    "MmCorpus.serialize(output_fname, BoW_corpus)\n",
    "\n",
    "# load corpus\n",
    "load_corpus = MmCorpus(output_fname)\n"
   ]
  },
  {
   "cell_type": "code",
   "execution_count": 13,
   "metadata": {},
   "outputs": [
    {
     "name": "stdout",
     "output_type": "stream",
     "text": [
      "[['accelerating', 1], ['across', 1], ['and', 1], ['at', 1], ['aviation', 1], ['biggest', 1], ['brightest', 1], ['bringing', 1], ['by', 1], ['challenges', 1], ['defense', 1], ['ideas', 1], ['innovative', 1], ['minds', 1], ['most', 1], ['of', 1], ['raytheon', 1], ['re', 1], ['solve', 1], ['some', 1], ['space', 1], ['technologies', 1], ['the', 2], ['to', 1], ['together', 1], ['we', 1], ['world', 1], ['across', 1], ['and', 2], ['of', 1], ['the', 2], ['to', 1], ['together', 1], ['we', 2], ['world', 1], ['an', 1], ['coming', 1], ['company', 1], ['connect', 1], ['form', 1], ['globe', 1], ['how', 1], ['known', 1], ['limits', 1], ['one', 1], ['our', 1], ['protect', 1], ['push', 1], ['redefine', 1], ['science', 1], ['team', 1], ['unrivaled', 1], ['with', 1], ['and', 1], ['aviation', 1], ['defense', 1], ['space', 1], ['to', 1], ['we', 1], ['advancing', 1], ['are', 1], ['building', 1], ['creating', 1], ['deeper', 1], ['innovations', 1], ['into', 1], ['smarter', 1], ['systems', 1], ['take', 1], ['us', 1], ['and', 2], ['at', 1], ['aviation', 1], ['defense', 1], ['space', 1], ['the', 1], ['to', 2], ['our', 2], ['protect', 1], ['are', 2], ['into', 1], ['systems', 1], ['all', 1], ['blue', 1], ['bluer', 1], ['earth', 1], ['efforts', 1], ['here', 1], ['long', 1], ['making', 1], ['mars', 1], ['moment', 1], ['new', 1], ['on', 2], ['people', 1], ['plan', 1], ['reaching', 1], ['rover', 1], ['send', 1], ['skies', 1], ['sustainable', 1], ['term', 1], ['there', 2], ['this', 1], ['way', 1], ['what', 1], ['and', 6], ['defense', 1], ['of', 1], ['space', 1], ['technologies', 1], ['to', 1], ['one', 1], ['our', 1], ['team', 1], ['creating', 1], ['us', 1], ['here', 1], ['new', 2], ['on', 1], ['people', 1], ['advanced', 1], ['advantage', 1], ['against', 1], ['artificial', 1], ['as', 1], ['better', 1], ['breakthrough', 1], ['closer', 1], ['connected', 1], ['development', 1], ['earthwith', 1], ['electrification', 1], ['emerging', 1], ['experience', 1], ['faster', 1], ['fields', 1], ['in', 1], ['intelligence', 1], ['is', 1], ['management', 1], ['more', 3], ['operational', 1], ['places', 1], ['propulsion', 1], ['research', 1], ['safer', 1], ['such', 1], ['than', 1], ['thermal', 1], ['worlds', 1], ['years', 1], ['are', 1], ['leaving', 1], ['now', 1], ['rtx', 1], ['you', 1], ['and', 1], ['rtx', 1], ['com', 1], ['control', 1], ['does', 1], ['entering', 1], ['not', 1], ['that', 1], ['website', 1], ['and', 1], ['of', 1], ['the', 1], ['this', 2], ['is', 1], ['rtx', 1], ['does', 1], ['not', 2], ['website', 1], ['but', 1], ['content', 1], ['convenience', 1], ['endorse', 1], ['for', 2], ['has', 1], ['link', 1], ['links', 1], ['or', 1], ['policy', 1], ['privacy', 1], ['provided', 1], ['responsible', 1], ['security', 1], ['your', 1]]\n"
     ]
    }
   ],
   "source": [
    "from gensim import models\n",
    "import numpy as np\n",
    "\n",
    "# Word weight in Bag of Words corpus\n",
    "word_weight =[]\n",
    "for doc in BoW_corpus:\n",
    "    for id, freq in doc:\n",
    "        word_weight.append([my_dictionary[id], freq])\n",
    "print(word_weight)\n"
   ]
  },
  {
   "cell_type": "code",
   "execution_count": 14,
   "metadata": {},
   "outputs": [
    {
     "name": "stdout",
     "output_type": "stream",
     "text": [
      "[['accelerating', 0.234], ['across', 0.164], ['and', 0.036], ['at', 0.164], ['aviation', 0.123], ['biggest', 0.234], ['brightest', 0.234], ['bringing', 0.234], ['by', 0.234], ['challenges', 0.234], ['defense', 0.093], ['ideas', 0.234], ['innovative', 0.234], ['minds', 0.234], ['most', 0.234], ['of', 0.093], ['raytheon', 0.234], ['re', 0.234], ['solve', 0.234], ['some', 0.234], ['space', 0.093], ['technologies', 0.164], ['the', 0.186], ['to', 0.071], ['together', 0.164], ['we', 0.123], ['world', 0.164], ['across', 0.159], ['and', 0.071], ['of', 0.091], ['the', 0.181], ['to', 0.069], ['together', 0.159], ['we', 0.238], ['world', 0.159], ['an', 0.228], ['coming', 0.228], ['company', 0.228], ['connect', 0.228], ['form', 0.228], ['globe', 0.228], ['how', 0.228], ['known', 0.228], ['limits', 0.228], ['one', 0.159], ['our', 0.119], ['protect', 0.159], ['push', 0.228], ['redefine', 0.228], ['science', 0.228], ['team', 0.159], ['unrivaled', 0.228], ['with', 0.228], ['and', 0.051], ['aviation', 0.172], ['defense', 0.131], ['space', 0.131], ['to', 0.099], ['we', 0.172], ['advancing', 0.33], ['are', 0.172], ['building', 0.33], ['creating', 0.23], ['deeper', 0.33], ['innovations', 0.33], ['into', 0.23], ['smarter', 0.33], ['systems', 0.23], ['take', 0.33], ['us', 0.23], ['and', 0.055], ['at', 0.125], ['aviation', 0.094], ['defense', 0.071], ['space', 0.071], ['the', 0.071], ['to', 0.108], ['our', 0.187], ['protect', 0.125], ['are', 0.187], ['into', 0.125], ['systems', 0.125], ['all', 0.179], ['blue', 0.179], ['bluer', 0.179], ['earth', 0.179], ['efforts', 0.179], ['here', 0.125], ['long', 0.179], ['making', 0.179], ['mars', 0.179], ['moment', 0.179], ['new', 0.125], ['on', 0.25], ['people', 0.125], ['plan', 0.179], ['reaching', 0.179], ['rover', 0.179], ['send', 0.179], ['skies', 0.179], ['sustainable', 0.179], ['term', 0.179], ['there', 0.358], ['this', 0.125], ['way', 0.179], ['what', 0.179], ['and', 0.137], ['defense', 0.059], ['of', 0.059], ['space', 0.059], ['technologies', 0.103], ['to', 0.044], ['one', 0.103], ['our', 0.077], ['team', 0.103], ['creating', 0.103], ['us', 0.103], ['here', 0.103], ['new', 0.206], ['on', 0.103], ['people', 0.103], ['advanced', 0.147], ['advantage', 0.147], ['against', 0.147], ['artificial', 0.147], ['as', 0.147], ['better', 0.147], ['breakthrough', 0.147], ['closer', 0.147], ['connected', 0.147], ['development', 0.147], ['earthwith', 0.147], ['electrification', 0.147], ['emerging', 0.147], ['experience', 0.147], ['faster', 0.147], ['fields', 0.147], ['in', 0.147], ['intelligence', 0.147], ['is', 0.103], ['management', 0.147], ['more', 0.442], ['operational', 0.147], ['places', 0.147], ['propulsion', 0.147], ['research', 0.147], ['safer', 0.147], ['such', 0.147], ['than', 0.147], ['thermal', 0.147], ['worlds', 0.147], ['years', 0.147], ['are', 0.278], ['leaving', 0.531], ['now', 0.531], ['rtx', 0.278], ['you', 0.531], ['and', 0.065], ['rtx', 0.218], ['com', 0.417], ['control', 0.417], ['does', 0.291], ['entering', 0.417], ['not', 0.291], ['that', 0.417], ['website', 0.291], ['and', 0.032], ['of', 0.081], ['the', 0.081], ['this', 0.285], ['is', 0.143], ['rtx', 0.107], ['does', 0.143], ['not', 0.285], ['website', 0.143], ['but', 0.204], ['content', 0.204], ['convenience', 0.204], ['endorse', 0.204], ['for', 0.408], ['has', 0.204], ['link', 0.204], ['links', 0.204], ['or', 0.204], ['policy', 0.204], ['privacy', 0.204], ['provided', 0.204], ['responsible', 0.204], ['security', 0.204], ['your', 0.204]]\n"
     ]
    }
   ],
   "source": [
    "# create TF-IDF model\n",
    "tfIdf = models.TfidfModel(BoW_corpus, smartirs ='ntc')\n",
    "\n",
    "# TF-IDF Word Weight\n",
    "weight_tfidf =[]\n",
    "for doc in tfIdf[BoW_corpus]:\n",
    "    for id, freq in doc:\n",
    "        weight_tfidf.append([my_dictionary[id], np.around(freq, decimals = 3)])\n",
    "print(weight_tfidf)\n"
   ]
  },
  {
   "cell_type": "code",
   "execution_count": 15,
   "metadata": {},
   "outputs": [
    {
     "name": "stdout",
     "output_type": "stream",
     "text": [
      "[ 0.08429199  0.6810542  -0.23236047  0.5135599   0.72704726 -0.2708385\n",
      "  1.1678431   0.13573836 -0.1799201   0.5386952  -0.40477005 -0.46647406\n",
      "  0.06208383  0.0625261  -0.9652865  -0.22467071  0.14175357 -0.45789862\n",
      " -0.1082805   0.94424564  0.23193921 -0.12871034  0.11568723  0.14689389\n",
      "  0.35471424  0.6873985   1.13297    -0.40288743 -0.01976494 -0.16401061\n",
      "  0.00661727  0.28128326  0.00367611  0.13369885  0.50008065  0.24660608\n",
      " -0.06042256  0.43748787 -0.21837576 -0.5056309  -0.6588769  -0.42790404\n",
      " -0.75538445  0.13293365 -1.4915361  -0.27210325 -0.03237525  0.5981424\n",
      "  0.50884426  0.17102258  0.5119052   0.07550713 -0.02512164  0.6818601\n",
      "  0.48609987 -0.08517195 -0.5710968  -0.7430363  -0.32530272 -0.51199317\n",
      "  0.07345051 -0.4444614   0.4670868  -0.34590897  0.5552     -1.0723406\n",
      " -0.12203769 -0.25409395  0.7623651  -0.5957149  -0.8882451  -0.08825206\n",
      "  0.02408632  0.7672065   0.54027885  0.24376902  0.06107651  0.28036726\n",
      "  0.8408296   0.09166606  0.02346912 -0.44578525 -0.7147747   0.6267328\n",
      "  0.15811868 -0.06592403 -0.58675635 -0.8268566  -0.8061414   0.25017157\n",
      "  0.5359403  -0.54110473  0.2511645  -0.33829692 -1.4669349  -0.33146843\n",
      "  0.22358975  0.4979801   0.30840823 -1.1948088 ]\n"
     ]
    },
    {
     "name": "stderr",
     "output_type": "stream",
     "text": [
      "<ipython-input-15-079e3ddb206b>:22: DeprecationWarning: Call to deprecated `__getitem__` (Method will be removed in 4.0.0, use self.wv.__getitem__() instead).\n",
      "  print(w2v_model['innovative'])\n"
     ]
    }
   ],
   "source": [
    "#training the model\n",
    "import gensim.downloader as api\n",
    "from multiprocessing import cpu_count\n",
    "from gensim.models.word2vec import Word2Vec\n",
    "\n",
    "# load the text8 dataset\n",
    "dataset = api.load(\"text8\")\n",
    "\n",
    "# extract a list of words from the dataset\n",
    "data =[]\n",
    "for word in dataset:\n",
    "    data.append(word)\n",
    "\n",
    "# We will split the data into two parts\n",
    "data_1 = data[:1200] # this is used to train the model\n",
    "data_2 = data[1200:] # this part will be used to update the model\n",
    "\n",
    "# Training the Word2Vec model\n",
    "w2v_model = Word2Vec(data_1, min_count = 0, workers = cpu_count())\n",
    "\n",
    "# word vector for the word \"time\"\n",
    "print(w2v_model['innovative'])\n"
   ]
  },
  {
   "cell_type": "code",
   "execution_count": 16,
   "metadata": {},
   "outputs": [
    {
     "name": "stderr",
     "output_type": "stream",
     "text": [
      "<ipython-input-16-348f8e7c181e>:2: DeprecationWarning: Call to deprecated `most_similar` (Method will be removed in 4.0.0, use self.wv.most_similar() instead).\n",
      "  print(w2v_model.most_similar('innovative'))\n"
     ]
    },
    {
     "name": "stdout",
     "output_type": "stream",
     "text": [
      "[('sophisticated', 0.7587212324142456), ('idiosyncratic', 0.7371047735214233), ('artistic', 0.7179204225540161), ('elaborate', 0.714296817779541), ('exciting', 0.7131907343864441), ('affordable', 0.7019119262695312), ('virtuosity', 0.6989805102348328), ('electro', 0.6988746523857117), ('expressive', 0.6987347602844238), ('eclectic', 0.6958465576171875)]\n"
     ]
    }
   ],
   "source": [
    "# similar words to the word \"innovative\"\n",
    "print(w2v_model.most_similar('innovative'))\n",
    "\n",
    "# save your model\n",
    "w2v_model.save('Word2VecModel')\n",
    "\n",
    "# load your model\n",
    "model = Word2Vec.load('Word2VecModel')\n"
   ]
  },
  {
   "cell_type": "code",
   "execution_count": 17,
   "metadata": {},
   "outputs": [
    {
     "name": "stderr",
     "output_type": "stream",
     "text": [
      "<ipython-input-17-c3e93ec4b4fa>:5: DeprecationWarning: Call to deprecated `iter` (Attribute will be removed in 4.0.0, use self.epochs instead).\n",
      "  w2v_model.train(data_2, total_examples = w2v_model.corpus_count, epochs = w2v_model.iter)\n"
     ]
    },
    {
     "name": "stdout",
     "output_type": "stream",
     "text": [
      "[-0.12828918  0.6598274  -0.1846751   0.6390891   0.8584713  -0.3635724\n",
      "  1.533321    0.01946569 -0.23826091  0.21958861 -0.14774215 -0.33829415\n",
      "  0.22424173  0.21262573 -1.408506   -0.14233102 -0.04372229 -0.4090316\n",
      " -0.1957174   1.4429628   0.23383215  0.01640288  0.33835405  0.02960308\n",
      "  0.8375485   0.9873936   1.3539714  -0.43978336  0.10988078 -0.12932432\n",
      "  0.16437925  0.34611773  0.12386116  0.08293527  0.5381474   0.11901825\n",
      " -0.15540232  0.8774491  -0.26770473 -0.58513033 -0.7311255  -0.5375565\n",
      " -1.0672818   0.19042754 -1.7755675  -0.27684036  0.1466139   0.73100275\n",
      "  0.48438114  0.03307628  0.7751852   0.08661723 -0.3210175   0.7457882\n",
      "  0.6641325  -0.39451903 -0.52174646 -0.6896746  -0.19923128 -0.8650128\n",
      " -0.1670047  -0.65868634  0.4956215  -0.38949618  0.6514941  -1.0552447\n",
      " -0.4244463  -0.11465784  0.6604386  -1.1104884  -0.9970625  -0.11309437\n",
      " -0.01810238  1.0838311   0.7812039   0.18249716 -0.17005447  0.4748769\n",
      "  1.0166199   0.16271004 -0.14063792 -0.19303149 -0.75019133  0.85018045\n",
      "  0.3467385  -0.25883913 -0.48650515 -0.9414783  -0.56753534  0.53497684\n",
      "  0.62407637 -0.44726083  0.41500458 -0.5052124  -1.5003055  -0.62352496\n",
      "  0.39694753  0.4472328   0.50369185 -1.269105  ]\n"
     ]
    },
    {
     "name": "stderr",
     "output_type": "stream",
     "text": [
      "<ipython-input-17-c3e93ec4b4fa>:7: DeprecationWarning: Call to deprecated `__getitem__` (Method will be removed in 4.0.0, use self.wv.__getitem__() instead).\n",
      "  print(w2v_model['innovative'])\n"
     ]
    }
   ],
   "source": [
    "# building a model vocabulary from a sequence of sentences\n",
    "w2v_model.build_vocab(data_2, update = True)\n",
    "\n",
    "# training word vectors\n",
    "w2v_model.train(data_2, total_examples = w2v_model.corpus_count, epochs = w2v_model.iter)\n",
    "\n",
    "print(w2v_model['innovative'])\n"
   ]
  },
  {
   "cell_type": "code",
   "execution_count": null,
   "metadata": {},
   "outputs": [],
   "source": []
  }
 ],
 "metadata": {
  "kernelspec": {
   "display_name": "Python 3",
   "language": "python",
   "name": "python3"
  },
  "language_info": {
   "codemirror_mode": {
    "name": "ipython",
    "version": 3
   },
   "file_extension": ".py",
   "mimetype": "text/x-python",
   "name": "python",
   "nbconvert_exporter": "python",
   "pygments_lexer": "ipython3",
   "version": "3.8.5"
  }
 },
 "nbformat": 4,
 "nbformat_minor": 4
}
